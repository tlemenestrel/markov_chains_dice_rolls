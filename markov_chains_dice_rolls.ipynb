{
 "cells": [
  {
   "cell_type": "code",
   "execution_count": 23,
   "id": "f6c92485",
   "metadata": {},
   "outputs": [],
   "source": [
    "import numpy as np"
   ]
  },
  {
   "cell_type": "code",
   "execution_count": 52,
   "id": "6e49b220",
   "metadata": {},
   "outputs": [],
   "source": [
    "s   = np.array([0.1667,0.1667,0.1667,0.1667,0.1667,0.1667,0,0,0,0])"
   ]
  },
  {
   "cell_type": "code",
   "execution_count": 78,
   "id": "6df1b0cf",
   "metadata": {},
   "outputs": [],
   "source": [
    "P = np.array([[0.1667,0.1667,0.1667,0.1667,0.1667,0.1667,0,0,0,0],\n",
    "              [0.1667,0.1667,0.1667,0.1667,0.1667,0.1667,0,0,0,0],\n",
    "              [0.1667,0.1667,0.1667,0.1667,0.1667,0.1667,0,0,0,0],\n",
    "              [0.1667,0.1667,0.1667,0.1667,0.1667,0,0.1667,0,0,0],\n",
    "              [0.1667,0.1667,0.1667,0.1667,0,0.1667,0,0.1667,0,0],\n",
    "              [0.1667,0.1667,0.1667,0,0.1667,0,0,0,0.1667,0.1667],\n",
    "              [0,0,0,0,0,0,1,0,0,0],\n",
    "              [0,0,0,0,0,0,0,1,0,0],\n",
    "              [0,0,0,0,0,0,0,0,1,0],\n",
    "              [0,0,0,0,0,0,0,0,0,1]\n",
    "             ])"
   ]
  },
  {
   "cell_type": "code",
   "execution_count": 79,
   "id": "7203fc05",
   "metadata": {},
   "outputs": [
    {
     "name": "stdout",
     "output_type": "stream",
     "text": [
      "[1.0002 1.0002 1.0002 1.0002 1.0002 1.0002 1.     1.     1.     1.    ]\n"
     ]
    }
   ],
   "source": [
    "print(P.sum(axis=1))"
   ]
  },
  {
   "cell_type": "code",
   "execution_count": 80,
   "id": "f99a9c76",
   "metadata": {},
   "outputs": [],
   "source": [
    "P_n = np.linalg.matrix_power(P, 1000000000000000)\n",
    "\n",
    "result  = s @ P_n"
   ]
  },
  {
   "cell_type": "code",
   "execution_count": 81,
   "id": "250321df",
   "metadata": {},
   "outputs": [
    {
     "name": "stdout",
     "output_type": "stream",
     "text": [
      "[0.         0.         0.         0.         0.         0.\n",
      " 0.27513459 0.26858134 0.22926966 0.22926966]\n"
     ]
    }
   ],
   "source": [
    "print(result)"
   ]
  },
  {
   "cell_type": "code",
   "execution_count": 84,
   "id": "e18b7f81",
   "metadata": {},
   "outputs": [
    {
     "name": "stdout",
     "output_type": "stream",
     "text": [
      "0.7729855882843888\n"
     ]
    }
   ],
   "source": [
    "print(result[6:9].sum())"
   ]
  },
  {
   "cell_type": "code",
   "execution_count": 87,
   "id": "4ee833f5",
   "metadata": {},
   "outputs": [
    {
     "name": "stdout",
     "output_type": "stream",
     "text": [
      "1.0022552455020912\n"
     ]
    }
   ],
   "source": [
    "print(result[6:9].sum() + result[9])"
   ]
  },
  {
   "cell_type": "code",
   "execution_count": null,
   "id": "66a6bffd",
   "metadata": {},
   "outputs": [],
   "source": []
  }
 ],
 "metadata": {
  "kernelspec": {
   "display_name": "Python 3",
   "language": "python",
   "name": "python3"
  },
  "language_info": {
   "codemirror_mode": {
    "name": "ipython",
    "version": 3
   },
   "file_extension": ".py",
   "mimetype": "text/x-python",
   "name": "python",
   "nbconvert_exporter": "python",
   "pygments_lexer": "ipython3",
   "version": "3.8.5"
  }
 },
 "nbformat": 4,
 "nbformat_minor": 5
}
